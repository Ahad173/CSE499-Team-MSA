{
  "nbformat": 4,
  "nbformat_minor": 0,
  "metadata": {
    "colab": {
      "name": "CXR_Image_Classification(VGG-16).ipynb",
      "provenance": [],
      "collapsed_sections": []
    },
    "kernelspec": {
      "name": "python3",
      "display_name": "Python 3"
    },
    "language_info": {
      "name": "python"
    },
    "accelerator": "GPU"
  },
  "cells": [
    {
      "cell_type": "code",
      "metadata": {
        "id": "rPYmb7lylX2x",
        "colab": {
          "base_uri": "https://localhost:8080/"
        },
        "outputId": "631fea74-7b88-40c1-f71c-c4f9da77caa1"
      },
      "source": [
        "from google.colab import drive\n",
        "drive.mount('/content/drive')"
      ],
      "execution_count": null,
      "outputs": [
        {
          "output_type": "stream",
          "name": "stdout",
          "text": [
            "Mounted at /content/drive\n"
          ]
        }
      ]
    },
    {
      "cell_type": "code",
      "metadata": {
        "id": "6zQvxHb5b0DS"
      },
      "source": [
        "import numpy as np\n",
        "import pandas as pd\n",
        "import matplotlib.pyplot as plt\n",
        "import seaborn as sb\n",
        "import cv2\n",
        "import torch\n",
        "from torch import nn\n",
        "from torch import optim\n",
        "import torch.nn.functional as F\n",
        "from torchvision import datasets, transforms, models"
      ],
      "execution_count": 1,
      "outputs": []
    },
    {
      "cell_type": "code",
      "metadata": {
        "id": "ofwwnb_4oPzO"
      },
      "source": [
        "data_dir = '/content/drive/MyDrive/Dataset'\n",
        "train_dir = data_dir + '/train'\n",
        "valid_dir = data_dir + '/valid'\n",
        "test_dir = data_dir + '/test'"
      ],
      "execution_count": 2,
      "outputs": []
    },
    {
      "cell_type": "code",
      "metadata": {
        "id": "9Hw-b9IhoWUo"
      },
      "source": [
        "training_transforms = transforms.Compose([transforms.RandomRotation(30),\n",
        "                                          transforms.RandomResizedCrop(224),\n",
        "                                          transforms.RandomHorizontalFlip(),\n",
        "                                          transforms.ToTensor(),\n",
        "                                          transforms.Normalize([0.485, 0.456, 0.406], \n",
        "                                                               [0.229, 0.224, 0.225])])\n",
        "\n",
        "validation_transforms = transforms.Compose([transforms.Resize(256),\n",
        "                                            transforms.CenterCrop(224),\n",
        "                                            transforms.ToTensor(),\n",
        "                                            transforms.Normalize([0.485, 0.456, 0.406], \n",
        "                                                                 [0.229, 0.224, 0.225])])\n",
        "\n",
        "testing_transforms = transforms.Compose([transforms.Resize(256),\n",
        "                                         transforms.CenterCrop(224),\n",
        "                                         transforms.ToTensor(),\n",
        "                                         transforms.Normalize([0.485, 0.456, 0.406], \n",
        "                                                              [0.229, 0.224, 0.225])])\n",
        "\n",
        "# TODO: Load the datasets with ImageFolder\n",
        "training_dataset = datasets.ImageFolder(train_dir, transform=training_transforms)\n",
        "validation_dataset = datasets.ImageFolder(valid_dir, transform=validation_transforms)\n",
        "testing_dataset = datasets.ImageFolder(test_dir, transform=testing_transforms)\n",
        "\n",
        "# TODO: Using the image datasets and the trainforms, define the dataloaders\n",
        "train_loader = torch.utils.data.DataLoader(training_dataset, batch_size=6, shuffle=True)\n",
        "validate_loader = torch.utils.data.DataLoader(validation_dataset, batch_size=3)\n",
        "test_loader = torch.utils.data.DataLoader(testing_dataset, batch_size=3)\n",
        "\n"
      ],
      "execution_count": 3,
      "outputs": []
    },
    {
      "cell_type": "code",
      "metadata": {
        "colab": {
          "base_uri": "https://localhost:8080/"
        },
        "id": "-mB9cr-xofsH",
        "outputId": "bce18a88-b4a2-41fb-9b33-31c519a446b2"
      },
      "source": [
        "class_name = {'1': 'Normal', '2': 'COVID', '3': 'Pneumonia'}\n",
        "model = models.vgg16(pretrained=True)\n",
        "model"
      ],
      "execution_count": 4,
      "outputs": [
        {
          "output_type": "execute_result",
          "data": {
            "text/plain": [
              "VGG(\n",
              "  (features): Sequential(\n",
              "    (0): Conv2d(3, 64, kernel_size=(3, 3), stride=(1, 1), padding=(1, 1))\n",
              "    (1): ReLU(inplace=True)\n",
              "    (2): Conv2d(64, 64, kernel_size=(3, 3), stride=(1, 1), padding=(1, 1))\n",
              "    (3): ReLU(inplace=True)\n",
              "    (4): MaxPool2d(kernel_size=2, stride=2, padding=0, dilation=1, ceil_mode=False)\n",
              "    (5): Conv2d(64, 128, kernel_size=(3, 3), stride=(1, 1), padding=(1, 1))\n",
              "    (6): ReLU(inplace=True)\n",
              "    (7): Conv2d(128, 128, kernel_size=(3, 3), stride=(1, 1), padding=(1, 1))\n",
              "    (8): ReLU(inplace=True)\n",
              "    (9): MaxPool2d(kernel_size=2, stride=2, padding=0, dilation=1, ceil_mode=False)\n",
              "    (10): Conv2d(128, 256, kernel_size=(3, 3), stride=(1, 1), padding=(1, 1))\n",
              "    (11): ReLU(inplace=True)\n",
              "    (12): Conv2d(256, 256, kernel_size=(3, 3), stride=(1, 1), padding=(1, 1))\n",
              "    (13): ReLU(inplace=True)\n",
              "    (14): Conv2d(256, 256, kernel_size=(3, 3), stride=(1, 1), padding=(1, 1))\n",
              "    (15): ReLU(inplace=True)\n",
              "    (16): MaxPool2d(kernel_size=2, stride=2, padding=0, dilation=1, ceil_mode=False)\n",
              "    (17): Conv2d(256, 512, kernel_size=(3, 3), stride=(1, 1), padding=(1, 1))\n",
              "    (18): ReLU(inplace=True)\n",
              "    (19): Conv2d(512, 512, kernel_size=(3, 3), stride=(1, 1), padding=(1, 1))\n",
              "    (20): ReLU(inplace=True)\n",
              "    (21): Conv2d(512, 512, kernel_size=(3, 3), stride=(1, 1), padding=(1, 1))\n",
              "    (22): ReLU(inplace=True)\n",
              "    (23): MaxPool2d(kernel_size=2, stride=2, padding=0, dilation=1, ceil_mode=False)\n",
              "    (24): Conv2d(512, 512, kernel_size=(3, 3), stride=(1, 1), padding=(1, 1))\n",
              "    (25): ReLU(inplace=True)\n",
              "    (26): Conv2d(512, 512, kernel_size=(3, 3), stride=(1, 1), padding=(1, 1))\n",
              "    (27): ReLU(inplace=True)\n",
              "    (28): Conv2d(512, 512, kernel_size=(3, 3), stride=(1, 1), padding=(1, 1))\n",
              "    (29): ReLU(inplace=True)\n",
              "    (30): MaxPool2d(kernel_size=2, stride=2, padding=0, dilation=1, ceil_mode=False)\n",
              "  )\n",
              "  (avgpool): AdaptiveAvgPool2d(output_size=(7, 7))\n",
              "  (classifier): Sequential(\n",
              "    (0): Linear(in_features=25088, out_features=4096, bias=True)\n",
              "    (1): ReLU(inplace=True)\n",
              "    (2): Dropout(p=0.5, inplace=False)\n",
              "    (3): Linear(in_features=4096, out_features=4096, bias=True)\n",
              "    (4): ReLU(inplace=True)\n",
              "    (5): Dropout(p=0.5, inplace=False)\n",
              "    (6): Linear(in_features=4096, out_features=1000, bias=True)\n",
              "  )\n",
              ")"
            ]
          },
          "metadata": {},
          "execution_count": 4
        }
      ]
    },
    {
      "cell_type": "code",
      "metadata": {
        "id": "IqOTRG8SopZK"
      },
      "source": [
        "for parameter in model.parameters():\n",
        "    parameter.requires_grad = False\n",
        "\n",
        "\n",
        "from collections import OrderedDict\n",
        "\n",
        "# Build custom classifier\n",
        "classifier = nn.Sequential(OrderedDict([\n",
        "                                        ('relu', nn.ReLU()),\n",
        "                                        ('drop', nn.Dropout(p=0.5)),\n",
        "                                        ('fc2', nn.Linear(25088, 3)),\n",
        "                                        ('output', nn.LogSoftmax(dim=1))]))\n",
        "\n",
        "model.classifier = classifier"
      ],
      "execution_count": 5,
      "outputs": []
    },
    {
      "cell_type": "code",
      "metadata": {
        "id": "d2RMh3NOowDb"
      },
      "source": [
        "def validation(model, validateloader, criterion):\n",
        "    \n",
        "    val_loss = 0\n",
        "    accuracy = 0\n",
        "    \n",
        "    for images, labels in iter(validateloader):\n",
        "\n",
        "        images, labels = images.to('cuda'), labels.to('cuda')\n",
        "\n",
        "        output = model.forward(images)\n",
        "        val_loss += criterion(output, labels).item()\n",
        "\n",
        "        probabilities = torch.exp(output)\n",
        "        \n",
        "        equality = (labels.data == probabilities.max(dim=1)[1])\n",
        "        accuracy += equality.type(torch.FloatTensor).mean()\n",
        "    \n",
        "    return val_loss, accuracy"
      ],
      "execution_count": 6,
      "outputs": []
    },
    {
      "cell_type": "code",
      "metadata": {
        "id": "omGFq_8Ioyx9"
      },
      "source": [
        "criterion = nn.NLLLoss()\n",
        "\n",
        "optimizer = optim.Adam(model.classifier.parameters(), lr=0.001)"
      ],
      "execution_count": 7,
      "outputs": []
    },
    {
      "cell_type": "code",
      "metadata": {
        "colab": {
          "base_uri": "https://localhost:8080/"
        },
        "id": "Uw88Kol8o2Ko",
        "outputId": "2771b17e-8562-4b32-ba0c-4dd57d084b9b"
      },
      "source": [
        "torch.cuda.empty_cache()\n",
        "def train_classifier():\n",
        "    epochs = 10\n",
        "    steps = 0\n",
        "    print_every = 10\n",
        "\n",
        "    model.to('cuda')\n",
        "\n",
        "    for e in range(epochs):\n",
        "\n",
        "        model.train()\n",
        "\n",
        "        running_loss = 0\n",
        "\n",
        "        for images, labels in iter(train_loader):\n",
        "          if torch.cuda.is_available():\n",
        "            steps += 1\n",
        "\n",
        "            images, labels = images.to('cuda'), labels.to('cuda')\n",
        "\n",
        "            optimizer.zero_grad()\n",
        "\n",
        "            output = model.forward(images)\n",
        "            loss = criterion(output, labels)\n",
        "            loss.backward()\n",
        "            optimizer.step()\n",
        "\n",
        "            running_loss += loss.item()\n",
        "\n",
        "            if steps % print_every == 0:\n",
        "\n",
        "                model.eval()\n",
        "\n",
        "                # Turn off gradients for validation, saves memory and computations\n",
        "                with torch.no_grad():\n",
        "                    validation_loss, accuracy = validation(model, validate_loader, criterion)\n",
        "\n",
        "                print(\"Epoch: {}/{}.. \".format(e+1, epochs),\n",
        "                      \"Training Loss: {:.3f}.. \".format(running_loss/print_every),\n",
        "                      \"Validation Loss: {:.3f}.. \".format(validation_loss/len(validate_loader)),\n",
        "                      \"Validation Accuracy: {:.3f}\".format(accuracy/len(validate_loader)))\n",
        "\n",
        "                running_loss = 0\n",
        "                model.train()\n",
        "\n",
        "train_classifier()"
      ],
      "execution_count": 8,
      "outputs": [
        {
          "output_type": "stream",
          "name": "stderr",
          "text": [
            "/usr/local/lib/python3.7/dist-packages/torch/nn/functional.py:718: UserWarning: Named tensors and all their associated APIs are an experimental feature and subject to change. Please do not use them for anything important until they are released as stable. (Triggered internally at  /pytorch/c10/core/TensorImpl.h:1156.)\n",
            "  return torch.max_pool2d(input, kernel_size, stride, padding, dilation, ceil_mode)\n"
          ]
        }
      ]
    },
    {
      "cell_type": "code",
      "metadata": {
        "colab": {
          "base_uri": "https://localhost:8080/"
        },
        "id": "XCgeKkhWo53T",
        "outputId": "25dc16c3-f677-4501-d309-0867b2752fd5"
      },
      "source": [
        "def test_accuracy(model, test_loader):\n",
        "\n",
        "    # Do validation on the test set\n",
        "    model.eval()\n",
        "    model.to('cuda')\n",
        "\n",
        "    with torch.no_grad():\n",
        "    \n",
        "        accuracy = 0\n",
        "    \n",
        "        for images, labels in iter(test_loader):\n",
        "    \n",
        "            images, labels = images.to('cuda'), labels.to('cuda')\n",
        "    \n",
        "            output = model.forward(images)\n",
        "\n",
        "            probabilities = torch.exp(output)\n",
        "            #print(output)\n",
        "            #print(probabilities)\n",
        "        \n",
        "            equality = (labels.data == probabilities.max(dim=1)[1])\n",
        "            print(equality.type(torch.FloatTensor).mean())\n",
        "        \n",
        "            accuracy += equality.type(torch.FloatTensor).mean()\n",
        "        \n",
        "        print(\"Test Accuracy: {}\".format(accuracy/len(test_loader)))   \n",
        "        \n",
        "        \n",
        "test_accuracy(model, test_loader)"
      ],
      "execution_count": 9,
      "outputs": [
        {
          "output_type": "stream",
          "name": "stdout",
          "text": [
            "tensor(0.3333)\n",
            "tensor(0.6667)\n",
            "tensor(1.)\n",
            "tensor(0.6667)\n",
            "tensor(1.)\n",
            "tensor(1.)\n",
            "tensor(1.)\n",
            "tensor(1.)\n",
            "tensor(1.)\n",
            "tensor(1.)\n",
            "Test Accuracy: 0.8666666746139526\n"
          ]
        }
      ]
    },
    {
      "cell_type": "code",
      "metadata": {
        "id": "swvBSydOfgk1",
        "colab": {
          "base_uri": "https://localhost:8080/"
        },
        "outputId": "3663e39a-e715-45df-d5b6-f87e2afd77ea"
      },
      "source": [
        "model2 = torch.load(\"/content/drive/MyDrive/checkpoint.pth\")\n",
        "print(type(model))\n",
        "print(type(model2))"
      ],
      "execution_count": 10,
      "outputs": [
        {
          "output_type": "stream",
          "name": "stdout",
          "text": [
            "<class 'torchvision.models.vgg.VGG'>\n",
            "<class 'dict'>\n"
          ]
        }
      ]
    },
    {
      "cell_type": "code",
      "metadata": {
        "id": "7o5nteAHpGLD"
      },
      "source": [
        "def save_checkpoint(model):\n",
        "    model.class_to_idx = training_dataset.class_to_idx\n",
        "    checkpoint = {'arch': \"vgg16\",\n",
        "                  'class_to_idx': model.class_to_idx,\n",
        "                  'model_state_dict': model.state_dict()\n",
        "                 }\n",
        "\n",
        "    torch.save(checkpoint, 'checkpoint.pth')\n",
        "    \n",
        "save_checkpoint(model)"
      ],
      "execution_count": 11,
      "outputs": []
    },
    {
      "cell_type": "code",
      "metadata": {
        "id": "LDLm21xLpLCr"
      },
      "source": [
        "from collections import OrderedDict\n",
        "\n",
        "# Function that loads a checkpoint and rebuilds the model\n",
        "\n",
        "def load_checkpoint(filepath):\n",
        "    \n",
        "    checkpoint = torch.load(filepath)\n",
        "    \n",
        "    if checkpoint['arch'] == 'vgg16':\n",
        "        \n",
        "        model = models.vgg16(pretrained=True)\n",
        "        \n",
        "        for param in model.parameters():\n",
        "            param.requires_grad = False\n",
        "    else:\n",
        "        print(\"Architecture not recognized.\")\n",
        "    \n",
        "    model.class_to_idx = checkpoint['class_to_idx']\n",
        "    \n",
        "    classifier = nn.Sequential(OrderedDict([\n",
        "                                            ('relu', nn.ReLU()),\n",
        "                                            ('drop', nn.Dropout(p=0.5)),\n",
        "                                            ('fc2', nn.Linear(25088, 102)),\n",
        "                                            ('output', nn.LogSoftmax(dim=1))]))\n",
        "\n",
        "    model.classifier = classifier\n",
        "    \n",
        "    model.load_state_dict(checkpoint['model_state_dict'])\n",
        "    \n",
        "    return model\n",
        "\n"
      ],
      "execution_count": 12,
      "outputs": []
    },
    {
      "cell_type": "code",
      "metadata": {
        "id": "zVMALkErpNTC"
      },
      "source": [
        "from PIL import Image\n",
        "\n",
        "def process_image(image_path):\n",
        "    ''' Scales, crops, and normalizes a PIL image for a PyTorch model,\n",
        "        returns an Numpy array\n",
        "    '''\n",
        "    \n",
        "    # Process a PIL image for use in a PyTorch model\n",
        "    \n",
        "    pil_image = Image.open(image_path)\n",
        "    \n",
        "    # Resize\n",
        "    if pil_image.size[0] > pil_image.size[1]:\n",
        "      pil_image.thumbnail((5000, 256))\n",
        "    elif pil_image.size[0] > pil_image.size[1]:\n",
        "      pil_image.thumbnail((256, 5000))\n",
        "    elif pil_image.size[0] == pil_image.size[1]:\n",
        "      pil_image.thumbnail((224, 5000))\n",
        "    \n",
        "    # Crop \n",
        "    left_margin = (pil_image.width-224)/2\n",
        "    bottom_margin = (pil_image.height-224)/2\n",
        "    right_margin = left_margin + 224\n",
        "    top_margin = bottom_margin + 224\n",
        "    \n",
        "    pil_image = pil_image.crop((left_margin, bottom_margin, right_margin, top_margin))\n",
        "    \n",
        "    # Normalize\n",
        "    np_image = np.array(pil_image)/255\n",
        "    mean = np.array([0.485, 0.456, 0.406])\n",
        "    std = np.array([0.229, 0.224, 0.225])\n",
        "    np_image = (np_image - mean) / std\n",
        "    \n",
        "    # PyTorch expects the color channel to be the first dimension but it's the third dimension in the PIL image and Numpy array\n",
        "    # Color channel needs to be first; retain the order of the other two dimensions.\n",
        "    np_image = np_image.transpose((2, 0, 1))\n",
        "    \n",
        "    return np_image"
      ],
      "execution_count": 13,
      "outputs": []
    },
    {
      "cell_type": "code",
      "metadata": {
        "id": "-eTnFQC__KOe"
      },
      "source": [
        "#import cv2\n",
        "#pil_image = Image.open('/content/drive/MyDrive/Dataset/test/3/151-Pneumonia.png')\n",
        "\n",
        "#pil_image.thumbnail((5000, 256))\n",
        "#left_margin = (pil_image.width-224)/2\n",
        "#bottom_margin = (pil_image.height-224)/2\n",
        "#right_margin = left_margin + 224\n",
        "#top_margin = bottom_margin + 224\n",
        "#pil_image = pil_image.crop((left_margin, bottom_margin, right_margin, top_margin))\n",
        "#dir = '/content/drive/MyDrive/Dataset/test/3/Pneumonia.png'\n",
        "#cv2.imwrite(dir,pil_image)\n",
        "#probs, classes = predict(dir, model) \n",
        "#print(probs)\n",
        "\n",
        "#print(classes)"
      ],
      "execution_count": null,
      "outputs": []
    },
    {
      "cell_type": "code",
      "metadata": {
        "colab": {
          "base_uri": "https://localhost:8080/",
          "height": 286
        },
        "id": "F8YCxoYlpPac",
        "outputId": "8b16bf06-58e3-4671-e945-4f9d0ec8f2d6"
      },
      "source": [
        "def imshow(image, ax=None, title=None):\n",
        "    if ax is None:\n",
        "        fig, ax = plt.subplots()\n",
        "    \n",
        "    # PyTorch tensors assume the color channel is the first dimension\n",
        "    # but matplotlib assumes is the third dimension\n",
        "    image = image.transpose((1, 2, 0))\n",
        "    \n",
        "    # Undo preprocessing\n",
        "    mean = np.array([0.485, 0.456, 0.406])\n",
        "    std = np.array([0.229, 0.224, 0.225])\n",
        "    image = std * image + mean\n",
        "    \n",
        "    if title is not None:\n",
        "        ax.set_title(title)\n",
        "    \n",
        "    # Image needs to be clipped between 0 and 1 or it looks like noise when displayed\n",
        "    image = np.clip(image, 0, 1)\n",
        "    \n",
        "    ax.imshow(image)\n",
        "    \n",
        "    return ax\n",
        "\n",
        "image = process_image('/content/drive/MyDrive/Dataset/test/1/45-Normal.png')\n",
        "imshow(image)"
      ],
      "execution_count": 14,
      "outputs": [
        {
          "output_type": "execute_result",
          "data": {
            "text/plain": [
              "<matplotlib.axes._subplots.AxesSubplot at 0x7f1532157350>"
            ]
          },
          "metadata": {},
          "execution_count": 14
        },
        {
          "output_type": "display_data",
          "data": {
            "image/png": "[encoded data removed]",
            "text/plain": [
              "<Figure size 432x288 with 1 Axes>"
            ]
          },
          "metadata": {
            "needs_background": "light"
          }
        }
      ]
    },
    {
      "cell_type": "code",
      "metadata": {
        "colab": {
          "base_uri": "https://localhost:8080/"
        },
        "id": "deDCYUSDporJ",
        "outputId": "4368de4e-070d-43be-efa7-9d2d4b7abc26"
      },
      "source": [
        "def predict(image_path, model, topk=3):\n",
        "    ''' Predict the class (or classes) of an image using a trained deep learning model.\n",
        "    '''\n",
        "    \n",
        "    image = process_image(image_path)\n",
        "    \n",
        "    # Convert image to PyTorch tensor first\n",
        "    image = torch.from_numpy(image).type(torch.cuda.FloatTensor)\n",
        "    #print(image.shape)\n",
        "    #print(type(image))\n",
        "    \n",
        "    # Returns a new tensor with a dimension of size one inserted at the specified position.\n",
        "    image = image.unsqueeze(0)\n",
        "    \n",
        "    output = model.forward(image)\n",
        "    \n",
        "    probabilities = torch.exp(output)\n",
        "    \n",
        "    # Probabilities and the indices of those probabilities corresponding to the classes\n",
        "    top_probabilities, top_indices = probabilities.topk(topk)\n",
        "    \n",
        "    # Convert to lists\n",
        "    top_probabilities = top_probabilities.detach().type(torch.FloatTensor).numpy().tolist()[0] \n",
        "    top_indices = top_indices.detach().type(torch.FloatTensor).numpy().tolist()[0] \n",
        "    \n",
        "    # Convert topk_indices to the actual class labels using class_to_idx\n",
        "    # Invert the dictionary so you get a mapping from index to class.\n",
        "    \n",
        "    idx_to_class = {value: key for key, value in model.class_to_idx.items()}\n",
        "    #print(idx_to_class)\n",
        "    \n",
        "    top_classes = [idx_to_class[index] for index in top_indices]\n",
        "    \n",
        "    return top_probabilities, top_classes\n",
        "    \n",
        "\n",
        "probs, classes = predict('/content/drive/MyDrive/Dataset/test/1/44-Normal.png', model) \n",
        "print(probs)\n",
        "print(classes)"
      ],
      "execution_count": 22,
      "outputs": [
        {
          "output_type": "stream",
          "name": "stdout",
          "text": [
            "[0.9999797344207764, 2.0296225557103753e-05, 5.398680169577119e-09]\n",
            "['1', '2', '3']\n"
          ]
        }
      ]
    },
    {
      "cell_type": "code",
      "metadata": {
        "colab": {
          "base_uri": "https://localhost:8080/"
        },
        "id": "Pou-cjdUp1Jr",
        "outputId": "b313dde8-47e7-4876-e937-6b686e5396b4"
      },
      "source": [
        "probs, classes = predict('/content/drive/MyDrive/Dataset/test/3/145-Pneumonia.png', model) \n",
        "print(probs)\n",
        "print(classes[0])"
      ],
      "execution_count": 23,
      "outputs": [
        {
          "output_type": "stream",
          "name": "stdout",
          "text": [
            "[0.999900221824646, 9.97499591903761e-05, 1.259112991647271e-08]\n",
            "3\n"
          ]
        }
      ]
    },
    {
      "cell_type": "code",
      "metadata": {
        "colab": {
          "base_uri": "https://localhost:8080/"
        },
        "id": "08Q4UgReQ9qF",
        "outputId": "2eb5ec44-d7bc-49ee-e1e2-f206398b8090"
      },
      "source": [
        "probs, classes = predict('/content/drive/MyDrive/Dataset/test/2/94-COVID.png', model) \n",
        "print(probs)\n",
        "print(classes[0])\n"
      ],
      "execution_count": 27,
      "outputs": [
        {
          "output_type": "stream",
          "name": "stdout",
          "text": [
            "[0.9916487336158752, 0.008348924107849598, 2.236575028291554e-06]\n",
            "2\n"
          ]
        }
      ]
    },
    {
      "cell_type": "code",
      "metadata": {
        "id": "v4G3gEkYW37V",
        "colab": {
          "base_uri": "https://localhost:8080/"
        },
        "outputId": "4fb5f0db-85d5-4dc9-c0f5-8ecd34c27d66"
      },
      "source": [
        "import os\n",
        "actual = []\n",
        "predicted = []\n",
        "f = 0\n",
        "dir1 = \"/content/drive/MyDrive/Dataset/test\"\n",
        "for folder in os.listdir(dir1):\n",
        "  dir2 = \"/content/drive/MyDrive/Dataset/test/\" + folder + \"/\"\n",
        "  for img in os.listdir(dir2):\n",
        "    if not img.startswith('.'):\n",
        "      imageLoc = dir2 + img\n",
        "      if folder == \"1\":\n",
        "          actual.append(1)\n",
        "          probs, classes = predict(imageLoc, model) \n",
        "          predicted.append(int(classes[0]))\n",
        "      elif folder == \"2\":\n",
        "          actual.append(2)\n",
        "          probs, classes = predict(imageLoc, model) \n",
        "          predicted.append(int(classes[0]))\n",
        "      elif folder == \"3\":\n",
        "          actual.append(3)\n",
        "          probs, classes = predict(imageLoc, model) \n",
        "          predicted.append(int(classes[0]))\n",
        "print(actual)\n",
        "print(predicted)"
      ],
      "execution_count": 29,
      "outputs": [
        {
          "output_type": "stream",
          "name": "stdout",
          "text": [
            "[1, 1, 1, 1, 1, 1, 1, 1, 1, 1, 3, 3, 3, 3, 3, 3, 3, 3, 3, 3, 2, 2, 2, 2, 2, 2, 2, 2, 2, 2]\n",
            "[1, 1, 1, 1, 2, 1, 1, 2, 2, 1, 3, 3, 3, 3, 3, 3, 3, 3, 3, 3, 2, 2, 2, 2, 2, 2, 2, 3, 2, 2]\n"
          ]
        }
      ]
    },
    {
      "cell_type": "code",
      "metadata": {
        "colab": {
          "base_uri": "https://localhost:8080/"
        },
        "id": "xrsCCQzzwmrT",
        "outputId": "1c08a5c9-f0bb-41f2-b6ce-c6d4d5c1768a"
      },
      "source": [
        "from sklearn.metrics import confusion_matrix\n",
        "from sklearn.metrics import classification_report\n",
        "matrix = confusion_matrix(actual,predicted,labels=[1,2,3])\n",
        "print(matrix)\n",
        "matrix = classification_report(actual,predicted,labels=[1,2,3])\n",
        "print(matrix)"
      ],
      "execution_count": 30,
      "outputs": [
        {
          "output_type": "stream",
          "name": "stdout",
          "text": [
            "[[ 7  3  0]\n",
            " [ 0  9  1]\n",
            " [ 0  0 10]]\n",
            "              precision    recall  f1-score   support\n",
            "\n",
            "           1       1.00      0.70      0.82        10\n",
            "           2       0.75      0.90      0.82        10\n",
            "           3       0.91      1.00      0.95        10\n",
            "\n",
            "    accuracy                           0.87        30\n",
            "   macro avg       0.89      0.87      0.86        30\n",
            "weighted avg       0.89      0.87      0.86        30\n",
            "\n"
          ]
        }
      ]
    }
  ]
}