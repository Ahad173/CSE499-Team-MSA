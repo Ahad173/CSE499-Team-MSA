{
 "cells": [
  {
   "cell_type": "code",
   "execution_count": 1,
   "id": "14aa2052",
   "metadata": {},
   "outputs": [],
   "source": [
    "import os \n",
    "import cv2\n",
    "import csv"
   ]
  },
  {
   "cell_type": "code",
   "execution_count": 2,
   "id": "05b0b190",
   "metadata": {},
   "outputs": [],
   "source": [
    "f = open(\"Ground_Truth.csv\", \"a\", newline=\"\")\n",
    "writer = csv.writer(f)\n",
    "dir1=\"Normal\"\n",
    "dir2=\"COVID\"\n",
    "dir3=\"Pneumonia\"\n"
   ]
  },
  {
   "cell_type": "code",
   "execution_count": 3,
   "id": "b5c95990",
   "metadata": {},
   "outputs": [
    {
     "name": "stdout",
     "output_type": "stream",
     "text": [
      "51\n"
     ]
    }
   ],
   "source": [
    "c=1\n",
    "inp = {\"filename\", \"ground_truth\", \"ground_truth_int\"}\n",
    "writer.writerow(inp)\n",
    "for img in os.listdir(dir1):\n",
    "    if not img.startswith('.'):\n",
    "        if img.endswith('png'):\n",
    "            pre_file = dir1+\"/\" + img\n",
    "            post_file= dir1 +\"/%d-Normal.png\" % c\n",
    "            all_dir = \"Dataset_Renamed_and_Merged/\"+\"%d-Normal.png\" % c\n",
    "            os.rename(pre_file, post_file)\n",
    "            inp= (\"%d-Normal.png\" % c, \"Normal\", 1)\n",
    "        if img.endswith('jpg'):\n",
    "            pre_file = dir1+\"/\" + img\n",
    "            post_file= dir1 +\"/%d-Normal.jpg\" % c\n",
    "            all_dir = \"Dataset_Renamed_and_Merged/\"+\"%d-Normal.jpg\" % c\n",
    "            os.rename(pre_file, post_file)\n",
    "            inp= (\"%d-Normal.jpg\" % c, \"Normal\", 1)\n",
    "        if img.endswith('jpeg'):\n",
    "            pre_file = dir1+\"/\" + img\n",
    "            post_file= dir1 +\"/%d-Normal.jpeg\" % c\n",
    "            all_dir = \"Dataset_Renamed_and_Merged/\"+\"%d-Normal.jpeg\" % c\n",
    "            os.rename(pre_file, post_file)\n",
    "            inp= (\"%d-Normal.jpeg\" % c, \"Normal\", 1)\n",
    "        writer.writerow(inp)\n",
    "        image = cv2.imread(post_file)\n",
    "        cv2.imwrite(all_dir,image)\n",
    "        c = c + 1\n",
    "print(c)"
   ]
  },
  {
   "cell_type": "code",
   "execution_count": 4,
   "id": "994411b1",
   "metadata": {},
   "outputs": [
    {
     "name": "stdout",
     "output_type": "stream",
     "text": [
      "101\n"
     ]
    }
   ],
   "source": [
    "for img in os.listdir(dir2):\n",
    "    if not img.startswith('.'):\n",
    "        if img.endswith('png'):\n",
    "            pre_file = dir2+\"/\" + img\n",
    "            post_file= dir2 +\"/%d-COVID.png\" % c\n",
    "            all_dir = \"Dataset_Renamed_and_Merged/\"+\"%d-COVID.png\" % c\n",
    "            os.rename(pre_file, post_file)\n",
    "            inp= (\"%d-COVID.png\" % c, \"COVID\",2)\n",
    "        elif img.endswith('jpg'):\n",
    "            pre_file = dir2+\"/\" + img\n",
    "            post_file= dir2 +\"/%d-COVID.jpg\" % c\n",
    "            all_dir = \"Dataset_Renamed_and_Merged/\"+\"%d-COVID.jpg\" % c\n",
    "            os.rename(pre_file, post_file)\n",
    "            inp= (\"%d-COVID.jpg\" % c, \"COVID\", 2)\n",
    "        elif img.endswith('jpeg'):\n",
    "            pre_file = dir2+\"/\" + img\n",
    "            post_file= dir2 +\"/%d-COVID.jpeg\" % c\n",
    "            all_dir = \"Dataset_Renamed_and_Merged/\"+\"%d-COVID.jpeg\" % c\n",
    "            os.rename(pre_file, post_file)\n",
    "            inp= (\"%d-COVID.jpeg\" % c, \"COVID\", 2)\n",
    "        \n",
    "        writer.writerow(inp)\n",
    "        image = cv2.imread(post_file)\n",
    "        cv2.imwrite(all_dir,image)\n",
    "        c = c + 1\n",
    "\n",
    "print(c)"
   ]
  },
  {
   "cell_type": "code",
   "execution_count": 5,
   "id": "a9ef43f7",
   "metadata": {},
   "outputs": [
    {
     "name": "stdout",
     "output_type": "stream",
     "text": [
      "151\n"
     ]
    }
   ],
   "source": [
    "for img in os.listdir(dir3):\n",
    "    if not img.startswith('.'):\n",
    "        if img.endswith('png'):\n",
    "            pre_file = dir3+\"/\" + img\n",
    "            post_file= dir3 +\"/%d-Pneumonia.png\" % c\n",
    "            all_dir = \"Dataset_Renamed_and_Merged/\"+\"%d-Pneumonia.png\" % c\n",
    "            os.rename(pre_file, post_file)\n",
    "            inp= (\"%d-Pneumonia.png\" % c, \"Pneumonia\", 3)\n",
    "        if img.endswith('jpg'):\n",
    "            pre_file = dir3+\"/\" + img\n",
    "            post_file= dir3 +\"/%d-Pneumonia.jpg\" % c\n",
    "            all_dir = \"Dataset_Renamed_and_Merged/\"+\"%d-Pneumonia.jpg\" % c\n",
    "            os.rename(pre_file, post_file)\n",
    "            inp= (\"%d-Pneumonia.jpg\" % c, \"Pneumonia\", 3)\n",
    "        if img.endswith('jpeg'):\n",
    "            pre_file = dir3+\"/\" + img\n",
    "            post_file= dir3 +\"/%d-Pneumonia.jpeg\" % c\n",
    "            all_dir = \"Dataset_Renamed_and_Merged/\"+\"%d-Pneumonia.jpeg\" % c\n",
    "            os.rename(pre_file, post_file)\n",
    "            inp= (\"%d-Pneumonia.jpeg\" % c, \"Pneumonia\", 3)\n",
    "        writer.writerow(inp)\n",
    "        image = cv2.imread(post_file)\n",
    "        cv2.imwrite(all_dir,image)\n",
    "        c = c + 1\n",
    "print(c)\n",
    "f.close()"
   ]
  },
  {
   "cell_type": "code",
   "execution_count": null,
   "id": "1204893a",
   "metadata": {},
   "outputs": [
    {
     "data": {
      "text/html": [
       "<div>\n",
       "<style scoped>\n",
       "    .dataframe tbody tr th:only-of-type {\n",
       "        vertical-align: middle;\n",
       "    }\n",
       "\n",
       "    .dataframe tbody tr th {\n",
       "        vertical-align: top;\n",
       "    }\n",
       "\n",
       "    .dataframe thead th {\n",
       "        text-align: right;\n",
       "    }\n",
       "</style>\n",
       "<table border=\"1\" class=\"dataframe\">\n",
       "  <thead>\n",
       "    <tr style=\"text-align: right;\">\n",
       "      <th></th>\n",
       "      <th>filename</th>\n",
       "      <th>ground_truth</th>\n",
       "      <th>ground_truth_int</th>\n",
       "    </tr>\n",
       "  </thead>\n",
       "  <tbody>\n",
       "    <tr>\n",
       "      <th>0</th>\n",
       "      <td>1-Normal.png</td>\n",
       "      <td>Normal</td>\n",
       "      <td>1</td>\n",
       "    </tr>\n",
       "    <tr>\n",
       "      <th>1</th>\n",
       "      <td>2-Normal.png</td>\n",
       "      <td>Normal</td>\n",
       "      <td>1</td>\n",
       "    </tr>\n",
       "    <tr>\n",
       "      <th>2</th>\n",
       "      <td>3-Normal.png</td>\n",
       "      <td>Normal</td>\n",
       "      <td>1</td>\n",
       "    </tr>\n",
       "    <tr>\n",
       "      <th>3</th>\n",
       "      <td>4-Normal.png</td>\n",
       "      <td>Normal</td>\n",
       "      <td>1</td>\n",
       "    </tr>\n",
       "    <tr>\n",
       "      <th>4</th>\n",
       "      <td>5-Normal.png</td>\n",
       "      <td>Normal</td>\n",
       "      <td>1</td>\n",
       "    </tr>\n",
       "    <tr>\n",
       "      <th>...</th>\n",
       "      <td>...</td>\n",
       "      <td>...</td>\n",
       "      <td>...</td>\n",
       "    </tr>\n",
       "    <tr>\n",
       "      <th>145</th>\n",
       "      <td>146-Pneumonia.png</td>\n",
       "      <td>Pneumonia</td>\n",
       "      <td>3</td>\n",
       "    </tr>\n",
       "    <tr>\n",
       "      <th>146</th>\n",
       "      <td>147-Pneumonia.png</td>\n",
       "      <td>Pneumonia</td>\n",
       "      <td>3</td>\n",
       "    </tr>\n",
       "    <tr>\n",
       "      <th>147</th>\n",
       "      <td>148-Pneumonia.png</td>\n",
       "      <td>Pneumonia</td>\n",
       "      <td>3</td>\n",
       "    </tr>\n",
       "    <tr>\n",
       "      <th>148</th>\n",
       "      <td>149-Pneumonia.png</td>\n",
       "      <td>Pneumonia</td>\n",
       "      <td>3</td>\n",
       "    </tr>\n",
       "    <tr>\n",
       "      <th>149</th>\n",
       "      <td>150-Pneumonia.png</td>\n",
       "      <td>Pneumonia</td>\n",
       "      <td>3</td>\n",
       "    </tr>\n",
       "  </tbody>\n",
       "</table>\n",
       "<p>150 rows × 3 columns</p>\n",
       "</div>"
      ],
      "text/plain": [
       "              filename ground_truth  ground_truth_int\n",
       "0         1-Normal.png       Normal                 1\n",
       "1         2-Normal.png       Normal                 1\n",
       "2         3-Normal.png       Normal                 1\n",
       "3         4-Normal.png       Normal                 1\n",
       "4         5-Normal.png       Normal                 1\n",
       "..                 ...          ...               ...\n",
       "145  146-Pneumonia.png    Pneumonia                 3\n",
       "146  147-Pneumonia.png    Pneumonia                 3\n",
       "147  148-Pneumonia.png    Pneumonia                 3\n",
       "148  149-Pneumonia.png    Pneumonia                 3\n",
       "149  150-Pneumonia.png    Pneumonia                 3\n",
       "\n",
       "[150 rows x 3 columns]"
      ]
     },
     "execution_count": 6,
     "metadata": {},
     "output_type": "execute_result"
    }
   ],
   "source": [
    "import pandas as pd\n",
    "file = pd.read_csv(\"Ground_Truth.csv\")\n",
    "file"
   ]
  },
  {
   "cell_type": "code",
   "execution_count": 10,
   "id": "f2cc3d5b",
   "metadata": {},
   "outputs": [
    {
     "data": {
      "text/html": [
       "<div>\n",
       "<style scoped>\n",
       "    .dataframe tbody tr th:only-of-type {\n",
       "        vertical-align: middle;\n",
       "    }\n",
       "\n",
       "    .dataframe tbody tr th {\n",
       "        vertical-align: top;\n",
       "    }\n",
       "\n",
       "    .dataframe thead th {\n",
       "        text-align: right;\n",
       "    }\n",
       "</style>\n",
       "<table border=\"1\" class=\"dataframe\">\n",
       "  <thead>\n",
       "    <tr style=\"text-align: right;\">\n",
       "      <th></th>\n",
       "      <th>1-Normal.png</th>\n",
       "      <th>Normal</th>\n",
       "    </tr>\n",
       "  </thead>\n",
       "  <tbody>\n",
       "    <tr>\n",
       "      <th>0</th>\n",
       "      <td>2-Normal.png</td>\n",
       "      <td>1</td>\n",
       "    </tr>\n",
       "    <tr>\n",
       "      <th>1</th>\n",
       "      <td>3-Normal.png</td>\n",
       "      <td>1</td>\n",
       "    </tr>\n",
       "    <tr>\n",
       "      <th>2</th>\n",
       "      <td>4-Normal.png</td>\n",
       "      <td>1</td>\n",
       "    </tr>\n",
       "    <tr>\n",
       "      <th>3</th>\n",
       "      <td>5-Normal.png</td>\n",
       "      <td>1</td>\n",
       "    </tr>\n",
       "    <tr>\n",
       "      <th>4</th>\n",
       "      <td>6-Normal.png</td>\n",
       "      <td>1</td>\n",
       "    </tr>\n",
       "    <tr>\n",
       "      <th>...</th>\n",
       "      <td>...</td>\n",
       "      <td>...</td>\n",
       "    </tr>\n",
       "    <tr>\n",
       "      <th>144</th>\n",
       "      <td>146-Pneumonia.png</td>\n",
       "      <td>2</td>\n",
       "    </tr>\n",
       "    <tr>\n",
       "      <th>145</th>\n",
       "      <td>147-Pneumonia.jpg</td>\n",
       "      <td>2</td>\n",
       "    </tr>\n",
       "    <tr>\n",
       "      <th>146</th>\n",
       "      <td>148-Pneumonia.jpg</td>\n",
       "      <td>2</td>\n",
       "    </tr>\n",
       "    <tr>\n",
       "      <th>147</th>\n",
       "      <td>149-Pneumonia.png</td>\n",
       "      <td>2</td>\n",
       "    </tr>\n",
       "    <tr>\n",
       "      <th>148</th>\n",
       "      <td>150-Pneumonia.jpeg</td>\n",
       "      <td>2</td>\n",
       "    </tr>\n",
       "  </tbody>\n",
       "</table>\n",
       "<p>149 rows × 2 columns</p>\n",
       "</div>"
      ],
      "text/plain": [
       "           1-Normal.png  Normal\n",
       "0          2-Normal.png       1\n",
       "1          3-Normal.png       1\n",
       "2          4-Normal.png       1\n",
       "3          5-Normal.png       1\n",
       "4          6-Normal.png       1\n",
       "..                  ...     ...\n",
       "144   146-Pneumonia.png       2\n",
       "145   147-Pneumonia.jpg       2\n",
       "146   148-Pneumonia.jpg       2\n",
       "147   149-Pneumonia.png       2\n",
       "148  150-Pneumonia.jpeg       2\n",
       "\n",
       "[149 rows x 2 columns]"
      ]
     },
     "execution_count": 10,
     "metadata": {},
     "output_type": "execute_result"
    }
   ],
   "source": [
    "from sklearn.preprocessing import OrdinalEncoder\n",
    "\n",
    "from sklearn.preprocessing import LabelEncoder\n",
    "labelencoder = LabelEncoder()\n",
    "file.iloc[:,1]= labelencoder.fit_transform(file.iloc[:,1].values)\n",
    "file\n"
   ]
  },
  {
   "cell_type": "code",
   "execution_count": 15,
   "id": "b61bb73b",
   "metadata": {},
   "outputs": [],
   "source": [
    "file_name = \"final.csv\""
   ]
  },
  {
   "cell_type": "code",
   "execution_count": 16,
   "id": "ef7768b3",
   "metadata": {},
   "outputs": [],
   "source": [
    "file.to_csv(file_name)"
   ]
  },
  {
   "cell_type": "code",
   "execution_count": 16,
   "id": "7b527d92",
   "metadata": {},
   "outputs": [
    {
     "name": "stdout",
     "output_type": "stream",
     "text": [
      ".DS_Store\n"
     ]
    }
   ],
   "source": [
    "dir4 =\"All\"\n",
    "for img in os.listdir(dir1):\n",
    "    if not img.endswith('png'):\n",
    "        print(img)\n",
    "        #os.remove(dir4+\"/\"+img)\n",
    "    "
   ]
  },
  {
   "cell_type": "code",
   "execution_count": 17,
   "id": "76863e29",
   "metadata": {},
   "outputs": [
    {
     "name": "stdout",
     "output_type": "stream",
     "text": [
      ".DS_Store\n"
     ]
    }
   ],
   "source": [
    "dir4 =\"All\"\n",
    "for img in os.listdir(dir2):\n",
    "    if not img.endswith('png'):\n",
    "        print(img)\n",
    "        "
   ]
  },
  {
   "cell_type": "code",
   "execution_count": 6,
   "id": "888c7594",
   "metadata": {},
   "outputs": [
    {
     "name": "stdout",
     "output_type": "stream",
     "text": [
      "51\n"
     ]
    }
   ],
   "source": [
    "dir4 =\"Normal Copy\"\n",
    "f=1\n",
    "for img in os.listdir(dir4):\n",
    "    if img.endswith('png'):\n",
    "        f = f+ 1\n",
    "    if not img.endswith('png'):\n",
    "        print(img)\n",
    "print(f)\n",
    "        "
   ]
  },
  {
   "cell_type": "code",
   "execution_count": null,
   "id": "a8870a53",
   "metadata": {},
   "outputs": [],
   "source": [
    "dir5 = \"checkpoint.pth\"\n",
    "model = load_model()"
   ]
  }
 ],
 "metadata": {
  "kernelspec": {
   "display_name": "Python 3",
   "language": "python",
   "name": "python3"
  },
  "language_info": {
   "codemirror_mode": {
    "name": "ipython",
    "version": 3
   },
   "file_extension": ".py",
   "mimetype": "text/x-python",
   "name": "python",
   "nbconvert_exporter": "python",
   "pygments_lexer": "ipython3",
   "version": "3.8.8"
  }
 },
 "nbformat": 4,
 "nbformat_minor": 5
}
