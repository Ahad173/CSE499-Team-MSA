{
 "cells": [
  {
   "cell_type": "code",
   "execution_count": 1,
   "id": "df17ff00",
   "metadata": {},
   "outputs": [],
   "source": [
    "import pandas as pd\n",
    "import shutil\n",
    "import os"
   ]
  },
  {
   "cell_type": "code",
   "execution_count": 2,
   "id": "a5477bf6",
   "metadata": {},
   "outputs": [],
   "source": [
    "virus = \"Pneumonia/Viral/COVID-19\" \n",
    "x_ray_view = \"PA\" "
   ]
  },
  {
   "cell_type": "code",
   "execution_count": 3,
   "id": "6073226c",
   "metadata": {},
   "outputs": [],
   "source": [
    "metadata = \"metadata.csv\" \n",
    "imageDir = \"images\"\n",
    "outputDir1 = 'COVID' \n",
    "outputDir2 = 'Pneumonia'"
   ]
  },
  {
   "cell_type": "code",
   "execution_count": 4,
   "id": "934fc71a",
   "metadata": {},
   "outputs": [],
   "source": [
    "metadata_csv = pd.read_csv(metadata)"
   ]
  },
  {
   "cell_type": "code",
   "execution_count": 5,
   "id": "1d7ef024",
   "metadata": {},
   "outputs": [],
   "source": [
    "for (i, row) in metadata_csv.iterrows():\n",
    "    if row[\"finding\"] == virus and row[\"view\"] == x_ray_view:\n",
    "        filename1 = row[\"filename\"].split(os.path.sep)[-1]\n",
    "        filePath1 = os.path.sep.join([imageDir, filename1])\n",
    "        shutil.copy2(filePath1, outputDir1)\n",
    "    elif row[\"finding\"] != \"No Finding\" and row[\"finding\"] != \"todo\" and row[\"finding\"] != \"Tuberculosis\" and row[\"finding\"] != \"Unknown\" and row[\"view\"] == x_ray_view:\n",
    "        filename2 = row[\"filename\"].split(os.path.sep)[-1]\n",
    "        filePath2 = os.path.sep.join([imageDir, filename2])\n",
    "        shutil.copy2(filePath2, outputDir2)"
   ]
  },
  {
   "cell_type": "code",
   "execution_count": 6,
   "id": "d2952cb7",
   "metadata": {},
   "outputs": [],
   "source": []
  },
  {
   "cell_type": "code",
   "execution_count": null,
   "id": "31291bf0",
   "metadata": {},
   "outputs": [],
   "source": []
  }
 ],
 "metadata": {
  "kernelspec": {
   "display_name": "Python 3",
   "language": "python",
   "name": "python3"
  },
  "language_info": {
   "codemirror_mode": {
    "name": "ipython",
    "version": 3
   },
   "file_extension": ".py",
   "mimetype": "text/x-python",
   "name": "python",
   "nbconvert_exporter": "python",
   "pygments_lexer": "ipython3",
   "version": "3.8.8"
  }
 },
 "nbformat": 4,
 "nbformat_minor": 5
}
